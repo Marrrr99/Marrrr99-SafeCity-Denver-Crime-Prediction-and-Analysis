{
  "cells": [
    {
      "cell_type": "code",
      "execution_count": 131,
      "id": "c81e02bc",
      "metadata": {
        "colab": {
          "base_uri": "https://localhost:8080/"
        },
        "id": "c81e02bc",
        "outputId": "b6aecd4e-7eac-4198-991e-27e57e1ede51"
      },
      "outputs": [
        {
          "output_type": "stream",
          "name": "stdout",
          "text": [
            "Requirement already satisfied: pyspark in /usr/local/lib/python3.10/dist-packages (3.5.1)\n",
            "Requirement already satisfied: py4j==0.10.9.7 in /usr/local/lib/python3.10/dist-packages (from pyspark) (0.10.9.7)\n"
          ]
        }
      ],
      "source": [
        "!pip install pyspark"
      ]
    },
    {
      "cell_type": "code",
      "execution_count": 132,
      "id": "9097e6f6",
      "metadata": {
        "id": "9097e6f6"
      },
      "outputs": [],
      "source": [
        "# Importing the libraries\n",
        "from pyspark.sql import SparkSession\n",
        "from pyspark.sql.functions import countDistinct, avg,\\\n",
        "count, date_format , max, to_date, col,year, month, day, coalesce, cast\n",
        "import pandas as pd\n",
        "import matplotlib.pyplot as plt\n",
        "import seaborn as sns\n",
        "from pyspark.sql.functions import to_date, col\n",
        "from pyspark.ml.feature import StringIndexer, VectorAssembler\n",
        "from pyspark.ml import Pipeline"
      ]
    },
    {
      "cell_type": "code",
      "execution_count": 133,
      "id": "ac770bc9",
      "metadata": {
        "id": "ac770bc9"
      },
      "outputs": [],
      "source": [
        "#create a SparkSession\n",
        "spark=SparkSession.builder.appName('project').config(\"spark.sql.legacy.timeParserPolicy\", \"LEGACY\").getOrCreate()"
      ]
    },
    {
      "cell_type": "code",
      "execution_count": 134,
      "id": "7b7ac517",
      "metadata": {
        "id": "7b7ac517"
      },
      "outputs": [],
      "source": [
        "# Importing the dataset\n",
        "df=spark.read.csv('crime.csv', inferSchema=True, header=True)"
      ]
    },
    {
      "cell_type": "code",
      "execution_count": 135,
      "id": "af213abf",
      "metadata": {
        "colab": {
          "base_uri": "https://localhost:8080/"
        },
        "id": "af213abf",
        "outputId": "d6725677-f452-4254-8e59-c80a327ccab0"
      },
      "outputs": [
        {
          "output_type": "stream",
          "name": "stdout",
          "text": [
            "root\n",
            " |-- incident_id: long (nullable = true)\n",
            " |-- offense_id: long (nullable = true)\n",
            " |-- offense_code: integer (nullable = true)\n",
            " |-- offense_code_extension: integer (nullable = true)\n",
            " |-- offense_type_id: string (nullable = true)\n",
            " |-- offense_category_id: string (nullable = true)\n",
            " |-- first_occurrence_date: string (nullable = true)\n",
            " |-- last_occurrence_date: string (nullable = true)\n",
            " |-- reported_date: string (nullable = true)\n",
            " |-- incident_address: string (nullable = true)\n",
            " |-- geo_x: double (nullable = true)\n",
            " |-- geo_y: double (nullable = true)\n",
            " |-- geo_lon: double (nullable = true)\n",
            " |-- geo_lat: double (nullable = true)\n",
            " |-- district_id: string (nullable = true)\n",
            " |-- precinct_id: integer (nullable = true)\n",
            " |-- neighborhood_id: string (nullable = true)\n",
            " |-- is_crime: integer (nullable = true)\n",
            " |-- is_traffic: integer (nullable = true)\n",
            " |-- victim_count: integer (nullable = true)\n",
            "\n"
          ]
        }
      ],
      "source": [
        "df.printSchema()"
      ]
    },
    {
      "cell_type": "code",
      "execution_count": 136,
      "id": "03872c35",
      "metadata": {
        "colab": {
          "base_uri": "https://localhost:8080/"
        },
        "id": "03872c35",
        "outputId": "d57a8d84-2dcd-4c6e-f7be-1522cffb7d0b"
      },
      "outputs": [
        {
          "output_type": "execute_result",
          "data": {
            "text/plain": [
              "['incident_id',\n",
              " 'offense_id',\n",
              " 'offense_code',\n",
              " 'offense_code_extension',\n",
              " 'offense_type_id',\n",
              " 'offense_category_id',\n",
              " 'first_occurrence_date',\n",
              " 'last_occurrence_date',\n",
              " 'reported_date',\n",
              " 'incident_address',\n",
              " 'geo_x',\n",
              " 'geo_y',\n",
              " 'geo_lon',\n",
              " 'geo_lat',\n",
              " 'district_id',\n",
              " 'precinct_id',\n",
              " 'neighborhood_id',\n",
              " 'is_crime',\n",
              " 'is_traffic',\n",
              " 'victim_count']"
            ]
          },
          "metadata": {},
          "execution_count": 136
        }
      ],
      "source": [
        " df.columns"
      ]
    },
    {
      "cell_type": "code",
      "execution_count": 137,
      "id": "jbYQx8adHULT",
      "metadata": {
        "id": "jbYQx8adHULT"
      },
      "outputs": [],
      "source": [
        "# Handling missing values\n",
        "df = df.dropna()"
      ]
    },
    {
      "cell_type": "code",
      "execution_count": 138,
      "id": "a1279a09",
      "metadata": {
        "colab": {
          "base_uri": "https://localhost:8080/"
        },
        "id": "a1279a09",
        "outputId": "cb8a8115-cbb0-4377-9b25-a5f23bb10973"
      },
      "outputs": [
        {
          "output_type": "stream",
          "name": "stdout",
          "text": [
            "+-------+--------------------+--------------------+-----------------+----------------------+--------------------+-------------------+---------------------+--------------------+--------------------+------------------+-----------------+------------------+-------------------+--------------------+------------------+------------------+---------------+--------+----------+------------+\n",
            "|summary|         incident_id|          offense_id|     offense_code|offense_code_extension|     offense_type_id|offense_category_id|first_occurrence_date|last_occurrence_date|       reported_date|  incident_address|            geo_x|             geo_y|            geo_lon|             geo_lat|       district_id|       precinct_id|neighborhood_id|is_crime|is_traffic|victim_count|\n",
            "+-------+--------------------+--------------------+-----------------+----------------------+--------------------+-------------------+---------------------+--------------------+--------------------+------------------+-----------------+------------------+-------------------+--------------------+------------------+------------------+---------------+--------+----------+------------+\n",
            "|  count|               24672|               24672|            24672|                 24672|               24672|              24672|                24672|               24672|               24672|             24672|            24672|             24672|              24672|               24672|             24672|             24672|          24672|   24672|     24672|       24672|\n",
            "|   mean|1.184364997864425...|1.184364997895413E16|3099.285424773022|    0.7763456549935149|                NULL|               NULL|                 NULL|                NULL|                NULL|              NULL|3152959.248743515|1691173.7755755512|-104.95615552856668|  39.729796605155904| 3.463528362324129| 364.2629701686122|           NULL|     1.0|       0.0|         1.0|\n",
            "| stddev|2.401274464076906E10|2.401274464076527...|426.4134258127662|    0.5680149365206002|                NULL|               NULL|                 NULL|                NULL|                NULL|              NULL|19982.17963499014|  15540.5104943019|0.07115796807008608|0.042563167286164015|1.7047608939958299|171.80915042469195|           NULL|     0.0|       0.0|         0.0|\n",
            "|    min|             2019700|       2019700299901|             2999|                     0|              bigamy|   all-other-crimes| 1/1/2019 11:00:00 PM|1/1/2019 10:30:00 AM|1/1/2019 12:24:00 PM|0 BLOCK E 11TH AVE|        3109932.0|         1649146.0|       -105.1096898|            39.61499|                 1|               111|    athmar-park|       1|         0|           1|\n",
            "|    max|       2020890000000| 2020890000000299900|             5213|                     2|weapon-unlawful-d...|    public-disorder|  9/9/2022 9:25:00 AM| 9/9/2022 8:51:00 AM| 9/9/2022 9:44:00 AM|            WESLEY|        3234290.0|         1754122.0|       -104.6657792|          39.9009613|                 U|               999|        windsor|       1|         0|           1|\n",
            "+-------+--------------------+--------------------+-----------------+----------------------+--------------------+-------------------+---------------------+--------------------+--------------------+------------------+-----------------+------------------+-------------------+--------------------+------------------+------------------+---------------+--------+----------+------------+\n",
            "\n"
          ]
        }
      ],
      "source": [
        "df.describe().show(5)"
      ]
    },
    {
      "cell_type": "code",
      "execution_count": 138,
      "id": "032633c8",
      "metadata": {
        "id": "032633c8"
      },
      "outputs": [],
      "source": []
    },
    {
      "cell_type": "code",
      "execution_count": 139,
      "id": "bccfc3be",
      "metadata": {
        "colab": {
          "base_uri": "https://localhost:8080/"
        },
        "id": "bccfc3be",
        "outputId": "1cde0646-67a3-4f79-921c-7983394f45c6"
      },
      "outputs": [
        {
          "output_type": "stream",
          "name": "stdout",
          "text": [
            "+-----------+----------------+------------+----------------------+--------------------+-------------------+---------------------+--------------------+-------------------+-----------------+---------+---------+----------+----------+-----------+-----------+---------------+--------+----------+------------+\n",
            "|incident_id|      offense_id|offense_code|offense_code_extension|     offense_type_id|offense_category_id|first_occurrence_date|last_occurrence_date|      reported_date|     incident_loc|    geo_x|    geo_y|   geo_lon|   geo_lat|district_id|precinct_id|neighborhood_id|is_crime|is_traffic|victim_count|\n",
            "+-----------+----------------+------------+----------------------+--------------------+-------------------+---------------------+--------------------+-------------------+-----------------+---------+---------+----------+----------+-----------+-----------+---------------+--------+----------+------------+\n",
            "| 2018612468|2018612468299900|        2999|                     0|criminal-mischief...|    public-disorder|  9/6/2018 5:00:00 PM|9/6/2018 11:00:00 PM|9/7/2018 9:58:00 AM|65 S FEDERAL BLVD|3133534.0|1685797.0|-105.02533|39.7153571|          4|        411|         barnum|       1|         0|           1|\n",
            "+-----------+----------------+------------+----------------------+--------------------+-------------------+---------------------+--------------------+-------------------+-----------------+---------+---------+----------+----------+-----------+-----------+---------------+--------+----------+------------+\n",
            "only showing top 1 row\n",
            "\n"
          ]
        }
      ],
      "source": [
        " df.withColumnRenamed('incident_address', 'incident_loc').show(1)"
      ]
    },
    {
      "cell_type": "code",
      "execution_count": 140,
      "id": "5sCp7imZIAD4",
      "metadata": {
        "colab": {
          "base_uri": "https://localhost:8080/"
        },
        "id": "5sCp7imZIAD4",
        "outputId": "ebb3062f-cbc5-4b2e-8d5e-ce232e0f28a5"
      },
      "outputs": [
        {
          "output_type": "stream",
          "name": "stdout",
          "text": [
            "Most Recent Offense Categories:\n",
            "  offense_category_id\n",
            "0     public-disorder\n",
            "1     public-disorder\n",
            "2     public-disorder\n",
            "3     public-disorder\n",
            "4    all-other-crimes\n",
            "5    all-other-crimes\n",
            "6     public-disorder\n",
            "7     public-disorder\n"
          ]
        }
      ],
      "source": [
        "#  Most recent offense categories\n",
        "most_recent_offenses = df.orderBy(col('reported_date').desc()).select('offense_category_id').limit(8).toPandas()\n",
        "print(\"Most Recent Offense Categories:\")\n",
        "print(most_recent_offenses)"
      ]
    },
    {
      "cell_type": "code",
      "execution_count": 140,
      "id": "3UsAlsg7H69z",
      "metadata": {
        "id": "3UsAlsg7H69z"
      },
      "outputs": [],
      "source": []
    },
    {
      "cell_type": "code",
      "execution_count": 141,
      "id": "c832f136",
      "metadata": {
        "id": "c832f136"
      },
      "outputs": [],
      "source": [
        "df.createOrReplaceTempView('crime_data')"
      ]
    },
    {
      "cell_type": "code",
      "execution_count": 142,
      "id": "bd4b27f4",
      "metadata": {
        "colab": {
          "base_uri": "https://localhost:8080/"
        },
        "id": "bd4b27f4",
        "outputId": "fb9a03f1-6f62-4bb4-e99d-f308d667cc26"
      },
      "outputs": [
        {
          "output_type": "stream",
          "name": "stdout",
          "text": [
            "+-----------+-----------------+------------+----------------------+--------------------+-------------------+---------------------+--------------------+--------------------+------------------+---------+---------+------------+----------+-----------+-----------+---------------+--------+----------+------------+\n",
            "|incident_id|       offense_id|offense_code|offense_code_extension|     offense_type_id|offense_category_id|first_occurrence_date|last_occurrence_date|       reported_date|  incident_address|    geo_x|    geo_y|     geo_lon|   geo_lat|district_id|precinct_id|neighborhood_id|is_crime|is_traffic|victim_count|\n",
            "+-----------+-----------------+------------+----------------------+--------------------+-------------------+---------------------+--------------------+--------------------+------------------+---------+---------+------------+----------+-----------+-----------+---------------+--------+----------+------------+\n",
            "| 2018612468| 2018612468299900|        2999|                     0|criminal-mischief...|    public-disorder|  9/6/2018 5:00:00 PM|9/6/2018 11:00:00 PM| 9/7/2018 9:58:00 AM| 65 S FEDERAL BLVD|3133534.0|1685797.0|  -105.02533|39.7153571|          4|        411|         barnum|       1|         0|           1|\n",
            "| 2020293614| 2020293614299900|        2999|                     0|criminal-mischief...|    public-disorder|  5/8/2020 5:00:00 AM| 5/8/2020 6:30:00 PM|5/13/2020 10:00:0...|12295 E ALBROOK DR|3184065.0|1710782.0|-104.8450739|39.7830825|          5|        521|      montbello|       1|         0|           1|\n",
            "|20206006868|20206006868299900|        2999|                     0|criminal-mischief...|    public-disorder|  6/6/2020 1:00:00 AM| 6/6/2020 5:00:00 AM| 6/6/2020 1:29:00 PM|  900 N MADISON ST|3155851.0|1691502.0|-104.9458785|39.7306715|          2|        213|  congress-park|       1|         0|           1|\n",
            "|20226013245|20226013245299900|        2999|                     0|criminal-mischief...|    public-disorder| 7/14/2022 2:01:00 AM|7/14/2022 2:04:00 AM|7/14/2022 2:49:00 AM| 2540 N DOWNING ST|3148172.0|1699978.0|-104.9730054| 39.754065|          2|        211|       whittier|       1|         0|           1|\n",
            "| 2022454199| 2022454199299900|        2999|                     0|criminal-mischief...|    public-disorder|  9/2/2022 9:30:00 PM| 9/3/2022 6:55:00 AM|9/3/2022 11:07:00 AM|10 N SHERIDAN BLVD|3125808.0|1686311.0| -105.052784|39.7168757|          4|        411|    barnum-west|       1|         0|           1|\n",
            "+-----------+-----------------+------------+----------------------+--------------------+-------------------+---------------------+--------------------+--------------------+------------------+---------+---------+------------+----------+-----------+-----------+---------------+--------+----------+------------+\n",
            "only showing top 5 rows\n",
            "\n"
          ]
        }
      ],
      "source": [
        "#extracts and displays the first 5 records from the crime_data table that are categorized as \"public-disorder\"\n",
        "query1 = \"SELECT * FROM crime_data WHERE offense_category_id = 'public-disorder'\"\n",
        "result1 = spark.sql(query1).show(5)"
      ]
    },
    {
      "cell_type": "code",
      "execution_count": 143,
      "id": "-ZrBjdoXi2Gg",
      "metadata": {
        "colab": {
          "base_uri": "https://localhost:8080/"
        },
        "id": "-ZrBjdoXi2Gg",
        "outputId": "dd4ae833-3994-40f9-89e3-1f1ea3103512"
      },
      "outputs": [
        {
          "output_type": "stream",
          "name": "stdout",
          "text": [
            "+--------------------+-----+\n",
            "|     offense_type_id|count|\n",
            "+--------------------+-----+\n",
            "|drug-opium-or-der...|    7|\n",
            "|drug-cocaine-possess|   12|\n",
            "|criminal-mischief...| 6183|\n",
            "|drug-hallucinogen...|    2|\n",
            "|criminal-mischief...| 1833|\n",
            "+--------------------+-----+\n",
            "only showing top 5 rows\n",
            "\n"
          ]
        }
      ],
      "source": [
        "#Classification of crime records based on their offense_type_id and displays the count of records for each category.\n",
        "query2 = \"SELECT offense_type_id, COUNT(*) AS count FROM crime_data GROUP BY offense_type_id\"\n",
        "result2 = spark.sql(query2).show(5)"
      ]
    },
    {
      "cell_type": "code",
      "execution_count": 144,
      "id": "a0KXb3oii4dr",
      "metadata": {
        "colab": {
          "base_uri": "https://localhost:8080/"
        },
        "id": "a0KXb3oii4dr",
        "outputId": "07caa8a2-7e85-495a-863c-f77f6a340aca"
      },
      "outputs": [
        {
          "output_type": "stream",
          "name": "stdout",
          "text": [
            "+-------------------+\n",
            "|offense_category_id|\n",
            "+-------------------+\n",
            "|    public-disorder|\n",
            "|    public-disorder|\n",
            "|    public-disorder|\n",
            "|    public-disorder|\n",
            "|   all-other-crimes|\n",
            "|   all-other-crimes|\n",
            "|    public-disorder|\n",
            "|    public-disorder|\n",
            "+-------------------+\n",
            "only showing top 8 rows\n",
            "\n"
          ]
        }
      ],
      "source": [
        "#retrieves and displays the most recent offense_category_id values from the crime_data table, ensuring the latest offense categories appear first in the output.\n",
        "query3 = \"SELECT offense_category_id FROM crime_data ORDER BY reported_date DESC\"\n",
        "result3 = spark.sql(query3).show(8)"
      ]
    },
    {
      "cell_type": "code",
      "execution_count": 145,
      "id": "aqNQXsDzi8U_",
      "metadata": {
        "colab": {
          "base_uri": "https://localhost:8080/"
        },
        "id": "aqNQXsDzi8U_",
        "outputId": "e9a843ce-c3ae-45a6-9533-7d79c6eed7ad"
      },
      "outputs": [
        {
          "output_type": "execute_result",
          "data": {
            "text/plain": [
              "(1, 1)"
            ]
          },
          "metadata": {},
          "execution_count": 145
        }
      ],
      "source": [
        "# Find the maximum and minimum values of the 'victim_count' column\n",
        "max_victim_count = df.selectExpr('max(victim_count)').collect()[0][0]\n",
        "min_victim_count = df.selectExpr('min(victim_count)').collect()[0][0]\n",
        "max_victim_count, min_victim_count"
      ]
    },
    {
      "cell_type": "code",
      "execution_count": 146,
      "id": "njmq0DU8i8bx",
      "metadata": {
        "colab": {
          "base_uri": "https://localhost:8080/"
        },
        "id": "njmq0DU8i8bx",
        "outputId": "725a8958-2539-4407-b45a-f85bf4c49104"
      },
      "outputs": [
        {
          "output_type": "stream",
          "name": "stdout",
          "text": [
            "+-----------+----------+------------+----------------------+---------------+-------------------+---------------------+--------------------+-------------+----------------+-----+-----+-------+-------+-----------+-----------+---------------+--------+----------+------------+\n",
            "|incident_id|offense_id|offense_code|offense_code_extension|offense_type_id|offense_category_id|first_occurrence_date|last_occurrence_date|reported_date|incident_address|geo_x|geo_y|geo_lon|geo_lat|district_id|precinct_id|neighborhood_id|is_crime|is_traffic|victim_count|\n",
            "+-----------+----------+------------+----------------------+---------------+-------------------+---------------------+--------------------+-------------+----------------+-----+-----+-------+-------+-----------+-----------+---------------+--------+----------+------------+\n",
            "+-----------+----------+------------+----------------------+---------------+-------------------+---------------------+--------------------+-------------+----------------+-----+-----+-------+-------+-----------+-----------+---------------+--------+----------+------------+\n",
            "\n"
          ]
        }
      ],
      "source": [
        "# Filter the data where 'victim_count' is greater than 1 and 'is_crime' is 1\n",
        "filtered_data= df.filter((df['victim_count'] > 1) & (df['is_crime'] == 1))\n",
        "filtered_data.show(5)"
      ]
    },
    {
      "cell_type": "code",
      "execution_count": 147,
      "id": "cS10wArji8ev",
      "metadata": {
        "colab": {
          "base_uri": "https://localhost:8080/"
        },
        "id": "cS10wArji8ev",
        "outputId": "94564460-9ecd-479f-f080-485c6c753a9f"
      },
      "outputs": [
        {
          "output_type": "stream",
          "name": "stdout",
          "text": [
            "+-----------+-----------------+------------+----------------------+--------------------+-------------------+---------------------+--------------------+--------------------+------------------+---------+---------+------------+----------+-----------+-----------+---------------+--------+----------+------------+\n",
            "|incident_id|       offense_id|offense_code|offense_code_extension|     offense_type_id|offense_category_id|first_occurrence_date|last_occurrence_date|       reported_date|  incident_address|    geo_x|    geo_y|     geo_lon|   geo_lat|district_id|precinct_id|neighborhood_id|is_crime|is_traffic|victim_count|\n",
            "+-----------+-----------------+------------+----------------------+--------------------+-------------------+---------------------+--------------------+--------------------+------------------+---------+---------+------------+----------+-----------+-----------+---------------+--------+----------+------------+\n",
            "| 2018612468| 2018612468299900|        2999|                     0|criminal-mischief...|    public-disorder|  9/6/2018 5:00:00 PM|9/6/2018 11:00:00 PM| 9/7/2018 9:58:00 AM| 65 S FEDERAL BLVD|3133534.0|1685797.0|  -105.02533|39.7153571|          4|        411|         barnum|       1|         0|           1|\n",
            "| 2020293614| 2020293614299900|        2999|                     0|criminal-mischief...|    public-disorder|  5/8/2020 5:00:00 AM| 5/8/2020 6:30:00 PM|5/13/2020 10:00:0...|12295 E ALBROOK DR|3184065.0|1710782.0|-104.8450739|39.7830825|          5|        521|      montbello|       1|         0|           1|\n",
            "|20206006868|20206006868299900|        2999|                     0|criminal-mischief...|    public-disorder|  6/6/2020 1:00:00 AM| 6/6/2020 5:00:00 AM| 6/6/2020 1:29:00 PM|  900 N MADISON ST|3155851.0|1691502.0|-104.9458785|39.7306715|          2|        213|  congress-park|       1|         0|           1|\n",
            "|20226013245|20226013245299900|        2999|                     0|criminal-mischief...|    public-disorder| 7/14/2022 2:01:00 AM|7/14/2022 2:04:00 AM|7/14/2022 2:49:00 AM| 2540 N DOWNING ST|3148172.0|1699978.0|-104.9730054| 39.754065|          2|        211|       whittier|       1|         0|           1|\n",
            "| 2022454199| 2022454199299900|        2999|                     0|criminal-mischief...|    public-disorder|  9/2/2022 9:30:00 PM| 9/3/2022 6:55:00 AM|9/3/2022 11:07:00 AM|10 N SHERIDAN BLVD|3125808.0|1686311.0| -105.052784|39.7168757|          4|        411|    barnum-west|       1|         0|           1|\n",
            "+-----------+-----------------+------------+----------------------+--------------------+-------------------+---------------------+--------------------+--------------------+------------------+---------+---------+------------+----------+-----------+-----------+---------------+--------+----------+------------+\n",
            "only showing top 5 rows\n",
            "\n"
          ]
        }
      ],
      "source": [
        "# Filter the data where 'victim_count' is greater than 1 or 'is_crime' is 1\n",
        "filtered_data_or = df.filter((df['victim_count'] > 1) | (df['is_crime'] == 1))\n",
        "\n",
        "filtered_data_or.show(5)"
      ]
    },
    {
      "cell_type": "code",
      "execution_count": 148,
      "id": "Yb06GQArjAYv",
      "metadata": {
        "colab": {
          "base_uri": "https://localhost:8080/"
        },
        "id": "Yb06GQArjAYv",
        "outputId": "10b975b8-fb71-4949-8006-018626510c37"
      },
      "outputs": [
        {
          "output_type": "stream",
          "name": "stdout",
          "text": [
            "+--------------------+-----+\n",
            "|    incident_address|count|\n",
            "+--------------------+-----+\n",
            "|     1319 N MEADE ST|    1|\n",
            "|      2525 W 6TH AVE|    5|\n",
            "| 1506 S FEDERAL BLVD|    2|\n",
            "|    1225 N MONACO ST|    1|\n",
            "|      1440 N KNOX CT|    1|\n",
            "|    781 N VALLEJO ST|    2|\n",
            "|   8720 E COLFAX AVE|    2|\n",
            "|    2950 W EVANS AVE|    4|\n",
            "|    10900 E SMITH RD|    2|\n",
            "|  2207 S CHEROKEE ST|    1|\n",
            "|   2822 N JACKSON ST|    3|\n",
            "| 2042 S JOSEPHINE ST|    1|\n",
            "|         621 17TH ST|    4|\n",
            "|     3801 E MLK BLVD|    1|\n",
            "|    777 E SPEER BLVD|    2|\n",
            "|    4590 N PEORIA ST|    4|\n",
            "|      4140 N COOK ST|    1|\n",
            "|    1364 N LEYDEN ST|    1|\n",
            "|1995 S SHERIDAN BLVD|    1|\n",
            "|     1329 N GRANT ST|    1|\n",
            "+--------------------+-----+\n",
            "only showing top 20 rows\n",
            "\n"
          ]
        }
      ],
      "source": [
        "#Aggregation of data by 'incident_address'\n",
        "df.groupBy('incident_address').count().show()"
      ]
    },
    {
      "cell_type": "code",
      "execution_count": 149,
      "id": "uVZN9fWJjAbb",
      "metadata": {
        "colab": {
          "base_uri": "https://localhost:8080/"
        },
        "id": "uVZN9fWJjAbb",
        "outputId": "5cea92b6-e3f1-4bfd-c27f-e771bf9f40ee"
      },
      "outputs": [
        {
          "output_type": "stream",
          "name": "stdout",
          "text": [
            "+------------+-----+\n",
            "|victim_count|count|\n",
            "+------------+-----+\n",
            "|           1|24672|\n",
            "+------------+-----+\n",
            "\n"
          ]
        }
      ],
      "source": [
        "#Aggregation of data by 'victim_count'\n",
        "df.groupBy('victim_count').count().show()"
      ]
    },
    {
      "cell_type": "code",
      "execution_count": 150,
      "id": "_S7ILavMjDoP",
      "metadata": {
        "colab": {
          "base_uri": "https://localhost:8080/"
        },
        "id": "_S7ILavMjDoP",
        "outputId": "e10afd43-ac94-4699-93e1-4242d90e2822"
      },
      "outputs": [
        {
          "output_type": "stream",
          "name": "stdout",
          "text": [
            "+--------+-----+\n",
            "|is_crime|count|\n",
            "+--------+-----+\n",
            "|       1|24672|\n",
            "+--------+-----+\n",
            "\n"
          ]
        }
      ],
      "source": [
        "#Aggregation of data by type of crime\n",
        "df.groupBy('is_crime').count().show()"
      ]
    },
    {
      "cell_type": "code",
      "execution_count": 151,
      "id": "G6kIs2vvjDq8",
      "metadata": {
        "colab": {
          "base_uri": "https://localhost:8080/"
        },
        "id": "G6kIs2vvjDq8",
        "outputId": "39a85fa0-cdcb-4afd-a00e-953e4cec57b9"
      },
      "outputs": [
        {
          "output_type": "stream",
          "name": "stdout",
          "text": [
            "+--------------------+-----+\n",
            "|       reported_date|count|\n",
            "+--------------------+-----+\n",
            "|5/29/2020 2:15:00 PM|    1|\n",
            "|1/25/2022 12:16:0...|    1|\n",
            "|10/11/2022 11:51:...|    1|\n",
            "| 9/6/2019 8:37:00 AM|    1|\n",
            "|4/26/2022 9:24:00 AM|    1|\n",
            "|6/2/2022 10:58:00 AM|    1|\n",
            "|2/14/2022 9:28:00 AM|    1|\n",
            "|6/15/2020 2:07:00 PM|    1|\n",
            "|10/14/2020 6:39:0...|    1|\n",
            "|6/7/2022 12:34:00 PM|    1|\n",
            "|11/4/2018 12:10:0...|    1|\n",
            "|10/21/2020 11:43:...|    1|\n",
            "|3/29/2020 8:29:00 AM|    1|\n",
            "|6/1/2020 10:42:00 AM|    1|\n",
            "|4/23/2021 11:59:0...|    1|\n",
            "| 4/9/2021 2:54:00 PM|    1|\n",
            "|5/29/2022 6:26:00 PM|    1|\n",
            "|4/11/2022 10:35:0...|    1|\n",
            "|8/16/2021 12:50:0...|    1|\n",
            "|6/21/2020 11:02:0...|    1|\n",
            "+--------------------+-----+\n",
            "only showing top 20 rows\n",
            "\n"
          ]
        }
      ],
      "source": [
        "#Aggregation of data by 'reported_date'\n",
        "df.groupBy('reported_date').count().show()"
      ]
    },
    {
      "cell_type": "code",
      "execution_count": 152,
      "id": "EfRRdypyjDtQ",
      "metadata": {
        "colab": {
          "base_uri": "https://localhost:8080/"
        },
        "id": "EfRRdypyjDtQ",
        "outputId": "c52f045e-dc66-4577-a610-b8f58c94feb0"
      },
      "outputs": [
        {
          "output_type": "stream",
          "name": "stdout",
          "text": [
            "+--------------------+-----------------+\n",
            "|     offense_type_id|avg(victim_count)|\n",
            "+--------------------+-----------------+\n",
            "|drug-opium-or-der...|              1.0|\n",
            "|drug-cocaine-possess|              1.0|\n",
            "|criminal-mischief...|              1.0|\n",
            "|drug-hallucinogen...|              1.0|\n",
            "|criminal-mischief...|              1.0|\n",
            "|drug-poss-paraphe...|              1.0|\n",
            "| drug-heroin-possess|              1.0|\n",
            "|   drug-cocaine-sell|              1.0|\n",
            "|drug-hallucinogen...|              1.0|\n",
            "|drug-synth-narcot...|              1.0|\n",
            "|    drug-heroin-sell|              1.0|\n",
            "|drug-opium-or-der...|              1.0|\n",
            "|criminal-mischief...|              1.0|\n",
            "|drug-methamphetam...|              1.0|\n",
            "|police-resisting-...|              1.0|\n",
            "|weapon-by-prev-of...|              1.0|\n",
            "|drug-methampetami...|              1.0|\n",
            "|weapon-carrying-p...|              1.0|\n",
            "| police-interference|              1.0|\n",
            "|violation-of-cour...|              1.0|\n",
            "+--------------------+-----------------+\n",
            "only showing top 20 rows\n",
            "\n"
          ]
        }
      ],
      "source": [
        "#Average number of victims per type of crime\n",
        "df.groupBy('offense_type_id').avg('victim_count').show()"
      ]
    },
    {
      "cell_type": "code",
      "execution_count": 153,
      "id": "rMbAdCQrjDvi",
      "metadata": {
        "colab": {
          "base_uri": "https://localhost:8080/"
        },
        "id": "rMbAdCQrjDvi",
        "outputId": "24d041a7-7797-424c-80d6-855600740550"
      },
      "outputs": [
        {
          "output_type": "stream",
          "name": "stdout",
          "text": [
            "+--------------------+-----------------+\n",
            "|     offense_type_id|sum(victim_count)|\n",
            "+--------------------+-----------------+\n",
            "|prostitution-pimping|                1|\n",
            "|              bigamy|                1|\n",
            "|drug-hallucinogen...|                2|\n",
            "|drug-synth-narcot...|                2|\n",
            "|drug-methamphetam...|                2|\n",
            "|drug-marijuana-cu...|                2|\n",
            "|drug-make-sell-ot...|                2|\n",
            "|drug-hallucinogen...|                3|\n",
            "|drug-opium-or-der...|                3|\n",
            "|         liquor-sell|                3|\n",
            "|sex-off-registrat...|                3|\n",
            "|explosive-incendi...|                3|\n",
            "|obscene-material-mfr|                3|\n",
            "|    drug-heroin-sell|                5|\n",
            "|prostitution-enga...|                5|\n",
            "|violation-of-cust...|                5|\n",
            "|explosive-incendi...|                5|\n",
            "|             bribery|                5|\n",
            "|drug-opium-or-der...|                7|\n",
            "|              escape|                7|\n",
            "+--------------------+-----------------+\n",
            "only showing top 20 rows\n",
            "\n"
          ]
        }
      ],
      "source": [
        "#Aggregation of data by type of crime and ranking of results by number of victims per crime\n",
        "df.groupBy(\"offense_type_id\").sum(\"victim_count\").orderBy(\"sum(victim_count)\").show()"
      ]
    },
    {
      "cell_type": "code",
      "execution_count": 154,
      "id": "0X0iT2MNjJST",
      "metadata": {
        "id": "0X0iT2MNjJST"
      },
      "outputs": [],
      "source": [
        "#Identify crimes that occurred in the CBD neighborhood\n",
        "val1=df.filter(df[\"neighborhood_id\"].like(\"cbd\"))"
      ]
    },
    {
      "cell_type": "code",
      "execution_count": 155,
      "id": "99xT42d6jJUx",
      "metadata": {
        "colab": {
          "base_uri": "https://localhost:8080/"
        },
        "id": "99xT42d6jJUx",
        "outputId": "55741106-557e-4002-81c5-f10d34cb86aa"
      },
      "outputs": [
        {
          "output_type": "execute_result",
          "data": {
            "text/plain": [
              "792"
            ]
          },
          "metadata": {},
          "execution_count": 155
        }
      ],
      "source": [
        "val1.count()"
      ]
    },
    {
      "cell_type": "code",
      "execution_count": 156,
      "id": "-_Jt70YJjJXL",
      "metadata": {
        "colab": {
          "base_uri": "https://localhost:8080/"
        },
        "id": "-_Jt70YJjJXL",
        "outputId": "027f8dad-7d8a-4b9e-f26d-e810b78c9fbf"
      },
      "outputs": [
        {
          "output_type": "stream",
          "name": "stdout",
          "text": [
            "+---------------+--------------------+-----------+\n",
            "|neighborhood_id|     offense_type_id|crime_count|\n",
            "+---------------+--------------------+-----------+\n",
            "|      sunnyside|drug-cocaine-possess|          1|\n",
            "|  union-station|    drug-heroin-sell|          1|\n",
            "|        skyland|drug-cocaine-possess|          1|\n",
            "|  cheesman-park|drug-poss-paraphe...|          1|\n",
            "|   capitol-hill|drug-poss-paraphe...|          1|\n",
            "|            dia|    drug-heroin-sell|          1|\n",
            "|    five-points|drug-opium-or-der...|          1|\n",
            "|            cbd|drug-synth-narcot...|          1|\n",
            "|     villa-park|drug-opium-or-der...|          1|\n",
            "|      ruby-hill|drug-hallucinogen...|          1|\n",
            "|    bear-valley|drug-hallucinogen...|          1|\n",
            "|        auraria|drug-poss-paraphe...|          1|\n",
            "|       westwood|   drug-cocaine-sell|          1|\n",
            "|      sunnyside| drug-heroin-possess|          1|\n",
            "|          speer|    drug-heroin-sell|          1|\n",
            "|    athmar-park| drug-heroin-possess|          1|\n",
            "|    harvey-park|drug-poss-paraphe...|          1|\n",
            "|   lincoln-park|drug-opium-or-der...|          1|\n",
            "|            dia|drug-hallucinogen...|          1|\n",
            "|      wellshire|criminal-mischief...|          1|\n",
            "+---------------+--------------------+-----------+\n",
            "only showing top 20 rows\n",
            "\n"
          ]
        }
      ],
      "source": [
        "#Identify the most common types of crime in each neighborhood\n",
        "df.groupBy(\"neighborhood_id\", \"offense_type_id\").agg(count(\"offense_type_id\").alias(\"crime_count\"))\\\n",
        ".orderBy(\"crime_count\", descending=True).show()"
      ]
    },
    {
      "cell_type": "code",
      "execution_count": 156,
      "id": "aE0wqDxSjOIB",
      "metadata": {
        "id": "aE0wqDxSjOIB"
      },
      "outputs": [],
      "source": []
    },
    {
      "cell_type": "code",
      "execution_count": 156,
      "id": "ZRrL3cLRjOK3",
      "metadata": {
        "id": "ZRrL3cLRjOK3"
      },
      "outputs": [],
      "source": []
    },
    {
      "cell_type": "code",
      "execution_count": 157,
      "id": "lVb-aPNOdFry",
      "metadata": {
        "id": "lVb-aPNOdFry"
      },
      "outputs": [],
      "source": [
        "data = spark.read.csv(\"crime.csv\", header=True, inferSchema=True)\n"
      ]
    },
    {
      "cell_type": "code",
      "execution_count": 158,
      "id": "x1ZRNZxTRc7K",
      "metadata": {
        "colab": {
          "base_uri": "https://localhost:8080/"
        },
        "id": "x1ZRNZxTRc7K",
        "outputId": "12750dfb-4a39-447c-cef5-2eb25dced09f"
      },
      "outputs": [
        {
          "output_type": "stream",
          "name": "stdout",
          "text": [
            "root\n",
            " |-- incident_id: long (nullable = true)\n",
            " |-- offense_id: long (nullable = true)\n",
            " |-- offense_code: integer (nullable = true)\n",
            " |-- offense_code_extension: integer (nullable = true)\n",
            " |-- offense_type_id: string (nullable = true)\n",
            " |-- offense_category_id: string (nullable = true)\n",
            " |-- first_occurrence_date: string (nullable = true)\n",
            " |-- last_occurrence_date: string (nullable = true)\n",
            " |-- reported_date: string (nullable = true)\n",
            " |-- incident_address: string (nullable = true)\n",
            " |-- geo_x: double (nullable = true)\n",
            " |-- geo_y: double (nullable = true)\n",
            " |-- geo_lon: double (nullable = true)\n",
            " |-- geo_lat: double (nullable = true)\n",
            " |-- district_id: string (nullable = true)\n",
            " |-- precinct_id: integer (nullable = true)\n",
            " |-- neighborhood_id: string (nullable = true)\n",
            " |-- is_crime: integer (nullable = true)\n",
            " |-- is_traffic: integer (nullable = true)\n",
            " |-- victim_count: integer (nullable = true)\n",
            "\n",
            "+-----------+----------------+------------+----------------------+--------------------+-------------------+---------------------+--------------------+--------------------+-------------------+---------+---------+------------+----------+-----------+-----------+---------------+--------+----------+------------+\n",
            "|incident_id|      offense_id|offense_code|offense_code_extension|     offense_type_id|offense_category_id|first_occurrence_date|last_occurrence_date|       reported_date|   incident_address|    geo_x|    geo_y|     geo_lon|   geo_lat|district_id|precinct_id|neighborhood_id|is_crime|is_traffic|victim_count|\n",
            "+-----------+----------------+------------+----------------------+--------------------+-------------------+---------------------+--------------------+--------------------+-------------------+---------+---------+------------+----------+-----------+-----------+---------------+--------+----------+------------+\n",
            "|  202268791| 202268791299900|        2999|                     0|criminal-mischief...|    public-disorder| 2/10/2022 2:50:00 AM|                NULL|2/10/2022 3:16:00 AM| 1107 N SANTA FE DR|3140929.0|1692612.0|-104.9989101|39.7339566|          1|        123|   lincoln-park|       1|         0|           1|\n",
            "| 2021387586|2021387586299900|        2999|                     0|criminal-mischief...|    public-disorder|  7/7/2021 9:02:00 PM|                NULL|7/8/2021 12:55:00 AM|        815 16TH ST|3142470.0|1697098.0|-104.9933421| 39.746248|          6|        611|            cbd|       1|         0|           1|\n",
            "| 2020641486|2020641486299900|        2999|                     0|criminal-mischief...|    public-disorder| 10/29/2020 1:30:0...|                NULL|10/29/2020 4:31:0...|4745 N FEDERAL BLVD|3133352.0|1710396.0|-105.0255203|39.7828883|          1|        111|       berkeley|       1|         0|           1|\n",
            "| 2018612468|2018612468299900|        2999|                     0|criminal-mischief...|    public-disorder|  9/6/2018 5:00:00 PM|9/6/2018 11:00:00 PM| 9/7/2018 9:58:00 AM|  65 S FEDERAL BLVD|3133534.0|1685797.0|  -105.02533|39.7153571|          4|        411|         barnum|       1|         0|           1|\n",
            "| 2020293614|2020293614299900|        2999|                     0|criminal-mischief...|    public-disorder|  5/8/2020 5:00:00 AM| 5/8/2020 6:30:00 PM|5/13/2020 10:00:0...| 12295 E ALBROOK DR|3184065.0|1710782.0|-104.8450739|39.7830825|          5|        521|      montbello|       1|         0|           1|\n",
            "+-----------+----------------+------------+----------------------+--------------------+-------------------+---------------------+--------------------+--------------------+-------------------+---------+---------+------------+----------+-----------+-----------+---------------+--------+----------+------------+\n",
            "only showing top 5 rows\n",
            "\n"
          ]
        }
      ],
      "source": [
        "\n",
        "data.printSchema()\n",
        "data.show(5)"
      ]
    },
    {
      "cell_type": "code",
      "execution_count": 159,
      "id": "oeWk65k-Rpfg",
      "metadata": {
        "colab": {
          "base_uri": "https://localhost:8080/"
        },
        "id": "oeWk65k-Rpfg",
        "outputId": "00176921-eea5-49d7-f7c7-fb4afdd8dd9a"
      },
      "outputs": [
        {
          "output_type": "stream",
          "name": "stdout",
          "text": [
            "+-----------+-----------------+------------+----------------------+--------------------+-------------------+---------------------+--------------------+--------------------+------------------+---------+---------+------------+----------+-----------+-----------+---------------+--------+----------+------------+----+-----+---------+----+\n",
            "|incident_id|       offense_id|offense_code|offense_code_extension|     offense_type_id|offense_category_id|first_occurrence_date|last_occurrence_date|       reported_date|  incident_address|    geo_x|    geo_y|     geo_lon|   geo_lat|district_id|precinct_id|neighborhood_id|is_crime|is_traffic|victim_count|Year|Month|DayOfWeek|Hour|\n",
            "+-----------+-----------------+------------+----------------------+--------------------+-------------------+---------------------+--------------------+--------------------+------------------+---------+---------+------------+----------+-----------+-----------+---------------+--------+----------+------------+----+-----+---------+----+\n",
            "| 2018612468| 2018612468299900|        2999|                     0|criminal-mischief...|    public-disorder|  2018-09-06 17:00:00|9/6/2018 11:00:00 PM| 9/7/2018 9:58:00 AM| 65 S FEDERAL BLVD|3133534.0|1685797.0|  -105.02533|39.7153571|          4|        411|         barnum|       1|         0|           1|2018|    9|        5|  17|\n",
            "| 2020293614| 2020293614299900|        2999|                     0|criminal-mischief...|    public-disorder|  2020-05-08 05:00:00| 5/8/2020 6:30:00 PM|5/13/2020 10:00:0...|12295 E ALBROOK DR|3184065.0|1710782.0|-104.8450739|39.7830825|          5|        521|      montbello|       1|         0|           1|2020|    5|        6|   5|\n",
            "|20206006868|20206006868299900|        2999|                     0|criminal-mischief...|    public-disorder|  2020-06-06 01:00:00| 6/6/2020 5:00:00 AM| 6/6/2020 1:29:00 PM|  900 N MADISON ST|3155851.0|1691502.0|-104.9458785|39.7306715|          2|        213|  congress-park|       1|         0|           1|2020|    6|        7|   1|\n",
            "|20226013245|20226013245299900|        2999|                     0|criminal-mischief...|    public-disorder|  2022-07-14 02:01:00|7/14/2022 2:04:00 AM|7/14/2022 2:49:00 AM| 2540 N DOWNING ST|3148172.0|1699978.0|-104.9730054| 39.754065|          2|        211|       whittier|       1|         0|           1|2022|    7|        5|   2|\n",
            "| 2022454199| 2022454199299900|        2999|                     0|criminal-mischief...|    public-disorder|  2022-09-02 21:30:00| 9/3/2022 6:55:00 AM|9/3/2022 11:07:00 AM|10 N SHERIDAN BLVD|3125808.0|1686311.0| -105.052784|39.7168757|          4|        411|    barnum-west|       1|         0|           1|2022|    9|        6|  21|\n",
            "+-----------+-----------------+------------+----------------------+--------------------+-------------------+---------------------+--------------------+--------------------+------------------+---------+---------+------------+----------+-----------+-----------+---------------+--------+----------+------------+----+-----+---------+----+\n",
            "only showing top 5 rows\n",
            "\n"
          ]
        }
      ],
      "source": [
        "# handle missing values\n",
        "data=data.dropna()\n",
        "from pyspark.sql.functions import year, month, dayofweek, hour, to_timestamp\n",
        "# convert datatype\n",
        "data_cleaned = data.withColumn(\"first_occurrence_date\", to_timestamp(col(\"first_occurrence_date\"), \"M/d/yyyy h:mm:ss a\")) \\\n",
        "                   .withColumn(\"Year\", year(col(\"first_occurrence_date\"))) \\\n",
        "                   .withColumn(\"Month\", month(col(\"first_occurrence_date\"))) \\\n",
        "                   .withColumn(\"DayOfWeek\", dayofweek(col(\"first_occurrence_date\"))) \\\n",
        "                   .withColumn(\"Hour\", hour(col(\"first_occurrence_date\")))\n",
        "\n",
        "data_cleaned.show(5)\n"
      ]
    },
    {
      "cell_type": "code",
      "execution_count": 160,
      "id": "OQ7A3rOJhBHS",
      "metadata": {
        "colab": {
          "base_uri": "https://localhost:8080/",
          "height": 560
        },
        "id": "OQ7A3rOJhBHS",
        "outputId": "1d57c12c-28f7-469b-880c-412bf2dab3e7"
      },
      "outputs": [
        {
          "output_type": "display_data",
          "data": {
            "text/plain": [
              "<Figure size 1200x600 with 1 Axes>"
            ],
            "image/png": "[encoded data removed]"
          },
          "metadata": {}
        }
      ],
      "source": [
        "# 1. توزيع الجرائم حسب المقاطعة:\n",
        "# تحويل البيانات إلى Pandas DataFrame\n",
        "df_pandas = data_cleaned.groupBy(\"district_id\").count().toPandas()\n",
        "\n",
        "# رسم البيانات\n",
        "plt.figure(figsize=(12, 6))\n",
        "sns.barplot(x=\"district_id\", y=\"count\", data=df_pandas)\n",
        "plt.title(\"Crime Distribution by District\")\n",
        "plt.xlabel(\"District\")\n",
        "plt.ylabel(\"Crime Count\")\n",
        "plt.xticks(rotation=90)\n",
        "plt.show()"
      ]
    },
    {
      "cell_type": "code",
      "execution_count": 161,
      "id": "6KzKf_DMhTLJ",
      "metadata": {
        "colab": {
          "base_uri": "https://localhost:8080/",
          "height": 753
        },
        "id": "6KzKf_DMhTLJ",
        "outputId": "76717025-1836-45d2-c1e1-eec2b408dd03"
      },
      "outputs": [
        {
          "output_type": "display_data",
          "data": {
            "text/plain": [
              "<Figure size 1200x600 with 1 Axes>"
            ],
            "image/png": "[encoded data removed]"
          },
          "metadata": {}
        }
      ],
      "source": [
        "# 2. توزيع الجرائم حسب نوع الجريمة:\n",
        "df_pandas = data_cleaned.groupBy(\"offense_category_id\").count().toPandas()\n",
        "\n",
        "# رسم البيانات\n",
        "plt.figure(figsize=(12, 6))\n",
        "sns.barplot(x=\"offense_category_id\", y=\"count\", data=df_pandas)\n",
        "plt.title(\"Crime Distribution by Offense Category\")\n",
        "plt.xlabel(\"Offense Category\")\n",
        "plt.ylabel(\"Crime Count\")\n",
        "plt.xticks(rotation=90)\n",
        "plt.show()"
      ]
    },
    {
      "cell_type": "code",
      "execution_count": 162,
      "id": "t8P6MgB7hLaw",
      "metadata": {
        "colab": {
          "base_uri": "https://localhost:8080/",
          "height": 598
        },
        "id": "t8P6MgB7hLaw",
        "outputId": "2db3c61a-652f-4e67-99aa-810cf33968ac"
      },
      "outputs": [
        {
          "output_type": "display_data",
          "data": {
            "text/plain": [
              "<Figure size 1200x600 with 1 Axes>"
            ],
            "image/png": "[encoded data removed]"
          },
          "metadata": {}
        }
      ],
      "source": [
        "# 3. توزيع الجرائم حسب السنة:\n",
        "df_pandas = data_cleaned.groupBy(\"Year\").count().toPandas()\n",
        "\n",
        "# رسم البيانات\n",
        "plt.figure(figsize=(12, 6))\n",
        "sns.lineplot(x=\"Year\", y=\"count\", data=df_pandas, marker='o')\n",
        "plt.title(\"Crime Distribution by Year\")\n",
        "plt.xlabel(\"Year\")\n",
        "plt.ylabel(\"Crime Count\")\n",
        "plt.xticks(rotation=90)\n",
        "plt.show()\n"
      ]
    },
    {
      "cell_type": "code",
      "execution_count": 163,
      "id": "aYDgX_YthUGh",
      "metadata": {
        "colab": {
          "base_uri": "https://localhost:8080/",
          "height": 564
        },
        "id": "aYDgX_YthUGh",
        "outputId": "e4fdafcb-402b-4b4d-dad1-abe31bfbad67"
      },
      "outputs": [
        {
          "output_type": "display_data",
          "data": {
            "text/plain": [
              "<Figure size 1200x600 with 1 Axes>"
            ],
            "image/png": "[encoded data removed]"
          },
          "metadata": {}
        }
      ],
      "source": [
        "# 4. توزيع الجرائم حسب الشهر:\n",
        "df_pandas = data_cleaned.groupBy(\"Month\").count().toPandas()\n",
        "\n",
        "# رسم البيانات\n",
        "plt.figure(figsize=(12, 6))\n",
        "sns.barplot(x=\"Month\", y=\"count\", data=df_pandas)\n",
        "plt.title(\"Crime Distribution by Month\")\n",
        "plt.xlabel(\"Month\")\n",
        "plt.ylabel(\"Crime Count\")\n",
        "plt.show()\n"
      ]
    },
    {
      "cell_type": "code",
      "execution_count": 164,
      "id": "feszNkdRiGpm",
      "metadata": {
        "colab": {
          "base_uri": "https://localhost:8080/",
          "height": 564
        },
        "id": "feszNkdRiGpm",
        "outputId": "299c9f73-fb24-4b0a-fc8f-8f365c837903"
      },
      "outputs": [
        {
          "output_type": "display_data",
          "data": {
            "text/plain": [
              "<Figure size 1200x600 with 1 Axes>"
            ],
            "image/png": "[encoded data removed]"
          },
          "metadata": {}
        }
      ],
      "source": [
        "# 5. توزيع الجرائم حسب يوم الأسبوع:\n",
        "df_pandas = data_cleaned.groupBy(\"DayOfWeek\").count().toPandas()\n",
        "\n",
        "# رسم البيانات\n",
        "plt.figure(figsize=(12, 6))\n",
        "sns.barplot(x=\"DayOfWeek\", y=\"count\", data=df_pandas)\n",
        "plt.title(\"Crime Distribution by Day of Week\")\n",
        "plt.xlabel(\"Day of Week\")\n",
        "plt.ylabel(\"Crime Count\")\n",
        "plt.show()"
      ]
    },
    {
      "cell_type": "code",
      "execution_count": 165,
      "id": "d6cDnibwiNwF",
      "metadata": {
        "colab": {
          "base_uri": "https://localhost:8080/",
          "height": 564
        },
        "id": "d6cDnibwiNwF",
        "outputId": "969ad909-52d0-4282-d873-80250ed71eb7"
      },
      "outputs": [
        {
          "output_type": "display_data",
          "data": {
            "text/plain": [
              "<Figure size 1200x600 with 1 Axes>"
            ],
            "image/png": "[encoded data removed]"
          },
          "metadata": {}
        }
      ],
      "source": [
        "# 6. توزيع الجرائم حسب الساعة:\n",
        "df_pandas = data_cleaned.groupBy(\"Hour\").count().toPandas()\n",
        "\n",
        "# رسم البيانات\n",
        "plt.figure(figsize=(12, 6))\n",
        "sns.barplot(x=\"Hour\", y=\"count\", data=df_pandas)\n",
        "plt.title(\"Crime Distribution by Hour\")\n",
        "plt.xlabel(\"Hour\")\n",
        "plt.ylabel(\"Crime Count\")\n",
        "plt.show()"
      ]
    },
    {
      "cell_type": "code",
      "execution_count": 166,
      "id": "2cNznQQ6dP4j",
      "metadata": {
        "colab": {
          "base_uri": "https://localhost:8080/"
        },
        "id": "2cNznQQ6dP4j",
        "outputId": "d94065a1-33b7-468f-f196-308d565b3255"
      },
      "outputs": [
        {
          "output_type": "stream",
          "name": "stdout",
          "text": [
            "+-----------+-----+\n",
            "|district_id|count|\n",
            "+-----------+-----+\n",
            "|          7|  210|\n",
            "|          3| 6819|\n",
            "|          5| 2637|\n",
            "|          U|    9|\n",
            "|          6| 4601|\n",
            "|          1| 3753|\n",
            "|          4| 2832|\n",
            "|          2| 3811|\n",
            "+-----------+-----+\n",
            "\n"
          ]
        }
      ],
      "source": [
        "data_cleaned.groupBy(\"district_id\").count().show()\n"
      ]
    },
    {
      "cell_type": "code",
      "execution_count": 167,
      "id": "deznCxvldrF1",
      "metadata": {
        "colab": {
          "base_uri": "https://localhost:8080/"
        },
        "id": "deznCxvldrF1",
        "outputId": "cae74926-45c1-4371-c409-3ab1dca7a971"
      },
      "outputs": [
        {
          "output_type": "stream",
          "name": "stdout",
          "text": [
            "+-----------+-----------------+------------+----------------------+--------------------+-------------------+---------------------+--------------------+--------------------+------------------+---------+---------+------------+----------+-----------+-----------+---------------+--------+----------+------------+----+-----+---------+----+-------------------+---------------------------+\n",
            "|incident_id|       offense_id|offense_code|offense_code_extension|     offense_type_id|offense_category_id|first_occurrence_date|last_occurrence_date|       reported_date|  incident_address|    geo_x|    geo_y|     geo_lon|   geo_lat|district_id|precinct_id|neighborhood_id|is_crime|is_traffic|victim_count|Year|Month|DayOfWeek|Hour|district_id_indexed|offense_category_id_indexed|\n",
            "+-----------+-----------------+------------+----------------------+--------------------+-------------------+---------------------+--------------------+--------------------+------------------+---------+---------+------------+----------+-----------+-----------+---------------+--------+----------+------------+----+-----+---------+----+-------------------+---------------------------+\n",
            "| 2018612468| 2018612468299900|        2999|                     0|criminal-mischief...|    public-disorder|  2018-09-06 17:00:00|9/6/2018 11:00:00 PM| 9/7/2018 9:58:00 AM| 65 S FEDERAL BLVD|3133534.0|1685797.0|  -105.02533|39.7153571|          4|        411|         barnum|       1|         0|           1|2018|    9|        5|  17|                4.0|                        0.0|\n",
            "| 2020293614| 2020293614299900|        2999|                     0|criminal-mischief...|    public-disorder|  2020-05-08 05:00:00| 5/8/2020 6:30:00 PM|5/13/2020 10:00:0...|12295 E ALBROOK DR|3184065.0|1710782.0|-104.8450739|39.7830825|          5|        521|      montbello|       1|         0|           1|2020|    5|        6|   5|                5.0|                        0.0|\n",
            "|20206006868|20206006868299900|        2999|                     0|criminal-mischief...|    public-disorder|  2020-06-06 01:00:00| 6/6/2020 5:00:00 AM| 6/6/2020 1:29:00 PM|  900 N MADISON ST|3155851.0|1691502.0|-104.9458785|39.7306715|          2|        213|  congress-park|       1|         0|           1|2020|    6|        7|   1|                2.0|                        0.0|\n",
            "|20226013245|20226013245299900|        2999|                     0|criminal-mischief...|    public-disorder|  2022-07-14 02:01:00|7/14/2022 2:04:00 AM|7/14/2022 2:49:00 AM| 2540 N DOWNING ST|3148172.0|1699978.0|-104.9730054| 39.754065|          2|        211|       whittier|       1|         0|           1|2022|    7|        5|   2|                2.0|                        0.0|\n",
            "| 2022454199| 2022454199299900|        2999|                     0|criminal-mischief...|    public-disorder|  2022-09-02 21:30:00| 9/3/2022 6:55:00 AM|9/3/2022 11:07:00 AM|10 N SHERIDAN BLVD|3125808.0|1686311.0| -105.052784|39.7168757|          4|        411|    barnum-west|       1|         0|           1|2022|    9|        6|  21|                4.0|                        0.0|\n",
            "+-----------+-----------------+------------+----------------------+--------------------+-------------------+---------------------+--------------------+--------------------+------------------+---------+---------+------------+----------+-----------+-----------+---------------+--------+----------+------------+----+-----+---------+----+-------------------+---------------------------+\n",
            "only showing top 5 rows\n",
            "\n"
          ]
        }
      ],
      "source": [
        "# الجزء ج: تحويل القيم النصية إلى عددية باستخدام StringIndexer:\n",
        "from pyspark.ml.feature import StringIndexer\n",
        "\n",
        "# تحويل القيم النصية في عمود \"district_id\" إلى قيم عددية\n",
        "indexer_district = StringIndexer(inputCol=\"district_id\", outputCol=\"district_id_indexed\")\n",
        "data_indexed = indexer_district.fit(data_cleaned).transform(data_cleaned)\n",
        "\n",
        "# تحويل القيم النصية في عمود \"offense_category_id\" إلى قيم عددية\n",
        "indexer_offense = StringIndexer(inputCol=\"offense_category_id\", outputCol=\"offense_category_id_indexed\")\n",
        "data_indexed = indexer_offense.fit(data_indexed).transform(data_indexed)\n",
        "\n",
        "# عرض البيانات بعد التحويل\n",
        "data_indexed.show(5)\n"
      ]
    },
    {
      "cell_type": "code",
      "execution_count": 168,
      "id": "XErxLarLdvHr",
      "metadata": {
        "id": "XErxLarLdvHr"
      },
      "outputs": [],
      "source": [
        "# الجزء د: إعداد البيانات لمهام التعلم الآلي:\n",
        "\n",
        "from pyspark.ml.feature import VectorAssembler\n",
        "\n",
        "# تحديد الأعمدة التي سيتم استخدامها كميزات\n",
        "feature_columns = [\"offense_code\", \"offense_code_extension\", \"district_id_indexed\", \"Year\", \"Month\", \"DayOfWeek\", \"Hour\", \"geo_lon\", \"geo_lat\"]\n",
        "assembler = VectorAssembler(inputCols=feature_columns, outputCol=\"features\")\n",
        "\n",
        "# تحويل البيانات إلى تنسيق يتناسب مع نماذج التعلم الآلي\n",
        "final_data = assembler.transform(data_indexed).select(\"features\", \"offense_category_id_indexed\")\n"
      ]
    },
    {
      "cell_type": "code",
      "execution_count": 169,
      "id": "hv3h8tmvd43x",
      "metadata": {
        "id": "hv3h8tmvd43x"
      },
      "outputs": [],
      "source": [
        "# تقسيم مجموعة البيانات إلى تدريب واختبار:\n",
        "\n",
        "train_data, test_data = final_data.randomSplit([0.8, 0.2], seed=1234)\n"
      ]
    },
    {
      "cell_type": "code",
      "execution_count": 170,
      "id": "kb_5dwy0d7oh",
      "metadata": {
        "colab": {
          "base_uri": "https://localhost:8080/"
        },
        "id": "kb_5dwy0d7oh",
        "outputId": "04f8a5f1-10b0-4703-a5cd-05a5c516ec56"
      },
      "outputs": [
        {
          "output_type": "stream",
          "name": "stdout",
          "text": [
            "+----------+---------------------------+--------------------+\n",
            "|prediction|offense_category_id_indexed|            features|\n",
            "+----------+---------------------------+--------------------+\n",
            "|       0.0|                        0.0|[2999.0,0.0,0.0,2...|\n",
            "|       0.0|                        0.0|[2999.0,0.0,0.0,2...|\n",
            "|       0.0|                        0.0|[2999.0,0.0,0.0,2...|\n",
            "|       0.0|                        0.0|[2999.0,0.0,0.0,2...|\n",
            "|       0.0|                        0.0|[2999.0,0.0,0.0,2...|\n",
            "+----------+---------------------------+--------------------+\n",
            "only showing top 5 rows\n",
            "\n",
            "Accuracy: 0.997758761206194\n"
          ]
        }
      ],
      "source": [
        "from pyspark.ml.classification import RandomForestClassifier\n",
        "from pyspark.ml.evaluation import MulticlassClassificationEvaluator\n",
        "\n",
        "# إنشاء نموذج الغابات العشوائية\n",
        "rf = RandomForestClassifier(labelCol=\"offense_category_id_indexed\", featuresCol=\"features\")\n",
        "rf_model = rf.fit(train_data)\n",
        "\n",
        "# التنبؤ باستخدام النموذج\n",
        "predictions = rf_model.transform(test_data)\n",
        "predictions.select(\"prediction\", \"offense_category_id_indexed\", \"features\").show(5)\n",
        "\n",
        "# تقييم النموذج\n",
        "evaluator = MulticlassClassificationEvaluator(labelCol=\"offense_category_id_indexed\", predictionCol=\"prediction\", metricName=\"accuracy\")\n",
        "accuracy = evaluator.evaluate(predictions)\n",
        "print(f\"Accuracy: {accuracy}\")\n"
      ]
    },
    {
      "cell_type": "code",
      "execution_count": 171,
      "id": "4GmI0k-ed9tQ",
      "metadata": {
        "colab": {
          "base_uri": "https://localhost:8080/"
        },
        "id": "4GmI0k-ed9tQ",
        "outputId": "90de12e3-b807-4b6a-d46d-7973cdff1490"
      },
      "outputs": [
        {
          "output_type": "stream",
          "name": "stdout",
          "text": [
            "+----------+---------------------------+--------------------+\n",
            "|prediction|offense_category_id_indexed|            features|\n",
            "+----------+---------------------------+--------------------+\n",
            "|       0.0|                        0.0|[2999.0,0.0,0.0,2...|\n",
            "|       0.0|                        0.0|[2999.0,0.0,0.0,2...|\n",
            "|       0.0|                        0.0|[2999.0,0.0,0.0,2...|\n",
            "|       0.0|                        0.0|[2999.0,0.0,0.0,2...|\n",
            "|       0.0|                        0.0|[2999.0,0.0,0.0,2...|\n",
            "+----------+---------------------------+--------------------+\n",
            "only showing top 5 rows\n",
            "\n",
            "MLP Accuracy: 0.9983700081499592\n"
          ]
        }
      ],
      "source": [
        "from pyspark.ml.classification import MultilayerPerceptronClassifier\n",
        "\n",
        "# تحديد طبقات الشبكة العصبية\n",
        "layers = [len(feature_columns), 64, 32, len(data_indexed.select(\"offense_category_id_indexed\").distinct().collect())]\n",
        "\n",
        "# إنشاء النموذج\n",
        "mlp = MultilayerPerceptronClassifier(labelCol=\"offense_category_id_indexed\", featuresCol=\"features\", layers=layers, blockSize=128, seed=1234, maxIter=100)\n",
        "mlp_model = mlp.fit(train_data)\n",
        "\n",
        "# التنبؤ باستخدام النموذج\n",
        "predictions_mlp = mlp_model.transform(test_data)\n",
        "predictions_mlp.select(\"prediction\", \"offense_category_id_indexed\", \"features\").show(5)\n",
        "\n",
        "# تقييم النموذج\n",
        "accuracy_mlp = evaluator.evaluate(predictions_mlp)\n",
        "print(f\"MLP Accuracy: {accuracy_mlp}\")"
      ]
    }
  ],
  "metadata": {
    "colab": {
      "provenance": []
    },
    "kernelspec": {
      "display_name": "Python 3 (ipykernel)",
      "language": "python",
      "name": "python3"
    },
    "language_info": {
      "codemirror_mode": {
        "name": "ipython",
        "version": 3
      },
      "file_extension": ".py",
      "mimetype": "text/x-python",
      "name": "python",
      "nbconvert_exporter": "python",
      "pygments_lexer": "ipython3",
      "version": "3.11.3"
    }
  },
  "nbformat": 4,
  "nbformat_minor": 5
}